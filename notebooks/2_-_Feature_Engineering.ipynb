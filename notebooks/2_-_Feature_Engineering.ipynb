{
 "cells": [
  {
   "cell_type": "markdown",
   "metadata": {},
   "source": [
    "# Étape 2: Feature Engineering et Prétraitement"
   ]
  },
  {
   "cell_type": "markdown",
   "metadata": {},
   "source": [
    "## 1. Importation des bibliothèques"
   ]
  },
  {
   "cell_type": "code",
   "execution_count": 1,
   "metadata": {
    "execution": {
     "iopub.execute_input": "2025-09-30T09:05:19.509178Z",
     "iopub.status.busy": "2025-09-30T09:05:19.508990Z",
     "iopub.status.idle": "2025-09-30T09:05:20.167113Z",
     "shell.execute_reply": "2025-09-30T09:05:20.166783Z"
    }
   },
   "outputs": [],
   "source": [
    "import pandas as pd\n",
    "import numpy as np\n",
    "from sklearn.model_selection import train_test_split\n",
    "from sklearn.preprocessing import StandardScaler\n",
    "from sklearn.preprocessing import LabelEncoder"
   ]
  },
  {
   "cell_type": "markdown",
   "metadata": {},
   "source": [
    "## 2. Chargement des données"
   ]
  },
  {
   "cell_type": "code",
   "execution_count": 2,
   "metadata": {
    "execution": {
     "iopub.execute_input": "2025-09-30T09:05:20.168797Z",
     "iopub.status.busy": "2025-09-30T09:05:20.168648Z",
     "iopub.status.idle": "2025-09-30T09:05:20.182072Z",
     "shell.execute_reply": "2025-09-30T09:05:20.181701Z"
    }
   },
   "outputs": [],
   "source": [
    "df = pd.read_csv(\"../data/churn_data_processed.csv\")"
   ]
  },
  {
   "cell_type": "markdown",
   "metadata": {},
   "source": [
    "## 3. Encodage des variables catégorielles"
   ]
  },
  {
   "cell_type": "code",
   "execution_count": 3,
   "metadata": {
    "execution": {
     "iopub.execute_input": "2025-09-30T09:05:20.183275Z",
     "iopub.status.busy": "2025-09-30T09:05:20.183157Z",
     "iopub.status.idle": "2025-09-30T09:05:20.195615Z",
     "shell.execute_reply": "2025-09-30T09:05:20.195342Z"
    }
   },
   "outputs": [],
   "source": [
    "# Drop customerID\n",
    "df = df.drop(\"customerID\", axis=1)\n",
    "\n",
    "# Binary encoding\n",
    "binary_cols = [\"gender\", \"Partner\", \"Dependents\", \"PhoneService\", \"PaperlessBilling\", \"Churn\"]\n",
    "le = LabelEncoder()\n",
    "for col in binary_cols:\n",
    "    df[col] = le.fit_transform(df[col])\n",
    "\n",
    "# One-Hot encoding\n",
    "df = pd.get_dummies(df, drop_first=True)"
   ]
  },
  {
   "cell_type": "markdown",
   "metadata": {},
   "source": [
    "## 4. Division des données en ensembles d'entraînement et de test"
   ]
  },
  {
   "cell_type": "code",
   "execution_count": 4,
   "metadata": {
    "execution": {
     "iopub.execute_input": "2025-09-30T09:05:20.196948Z",
     "iopub.status.busy": "2025-09-30T09:05:20.196716Z",
     "iopub.status.idle": "2025-09-30T09:05:20.202247Z",
     "shell.execute_reply": "2025-09-30T09:05:20.201866Z"
    }
   },
   "outputs": [],
   "source": [
    "X = df.drop(\"Churn\", axis=1)\n",
    "y = df[\"Churn\"]\n",
    "\n",
    "X_train, X_test, y_train, y_test = train_test_split(X, y, test_size=0.2, random_state=42, stratify=y)"
   ]
  },
  {
   "cell_type": "markdown",
   "metadata": {},
   "source": [
    "## 5. Mise à l'échelle des caractéristiques numériques"
   ]
  },
  {
   "cell_type": "code",
   "execution_count": 5,
   "metadata": {
    "execution": {
     "iopub.execute_input": "2025-09-30T09:05:20.203358Z",
     "iopub.status.busy": "2025-09-30T09:05:20.203239Z",
     "iopub.status.idle": "2025-09-30T09:05:20.207706Z",
     "shell.execute_reply": "2025-09-30T09:05:20.207367Z"
    }
   },
   "outputs": [],
   "source": [
    "numerical_cols = [\"tenure\", \"MonthlyCharges\", \"TotalCharges\"]\n",
    "scaler = StandardScaler()\n",
    "\n",
    "X_train[numerical_cols] = scaler.fit_transform(X_train[numerical_cols])\n",
    "X_test[numerical_cols] = scaler.transform(X_test[numerical_cols])"
   ]
  },
  {
   "cell_type": "markdown",
   "metadata": {},
   "source": [
    "## 6. Sauvegarde des ensembles de données préparés"
   ]
  },
  {
   "cell_type": "code",
   "execution_count": 6,
   "metadata": {
    "execution": {
     "iopub.execute_input": "2025-09-30T09:05:20.208880Z",
     "iopub.status.busy": "2025-09-30T09:05:20.208763Z",
     "iopub.status.idle": "2025-09-30T09:05:20.246409Z",
     "shell.execute_reply": "2025-09-30T09:05:20.246087Z"
    }
   },
   "outputs": [
    {
     "name": "stdout",
     "output_type": "stream",
     "text": [
      "Les ensembles de données d'entraînement et de test ont été sauvegardés dans le dossier /data.\n"
     ]
    }
   ],
   "source": [
    "X_train.to_csv('../data/X_train.csv', index=False)\n",
    "X_test.to_csv('../data/X_test.csv', index=False)\n",
    "y_train.to_csv('../data/y_train.csv', index=False)\n",
    "y_test.to_csv('../data/y_test.csv', index=False)\n",
    "\n",
    "print(\"Les ensembles de données d'entraînement et de test ont été sauvegardés dans le dossier /data.\")"
   ]
  }
 ],
 "metadata": {
  "kernelspec": {
   "display_name": "Python 3",
   "language": "python",
   "name": "python3"
  },
  "language_info": {
   "codemirror_mode": {
    "name": "ipython",
    "version": 3
   },
   "file_extension": ".py",
   "mimetype": "text/x-python",
   "name": "python",
   "nbconvert_exporter": "python",
   "pygments_lexer": "ipython3",
   "version": "3.13.7"
  }
 },
 "nbformat": 4,
 "nbformat_minor": 4
}
