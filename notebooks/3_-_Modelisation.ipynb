{
 "cells": [
  {
   "cell_type": "markdown",
   "metadata": {},
   "source": [
    "# Étape 3: Modélisation, Évaluation et Optimisation"
   ]
  },
  {
   "cell_type": "markdown",
   "metadata": {},
   "source": [
    "## 1. Importation des bibliothèques et chargement des données"
   ]
  },
  {
   "cell_type": "code",
   "execution_count": 1,
   "metadata": {
    "execution": {
     "iopub.execute_input": "2025-09-30T09:05:23.333092Z",
     "iopub.status.busy": "2025-09-30T09:05:23.332944Z",
     "iopub.status.idle": "2025-09-30T09:05:24.334184Z",
     "shell.execute_reply": "2025-09-30T09:05:24.333791Z"
    }
   },
   "outputs": [
    {
     "name": "stdout",
     "output_type": "stream",
     "text": [
      "Données chargées.\n"
     ]
    }
   ],
   "source": [
    "import pandas as pd\n",
    "from sklearn.linear_model import LogisticRegression\n",
    "from sklearn.tree import DecisionTreeClassifier\n",
    "from sklearn.ensemble import RandomForestClassifier\n",
    "from sklearn.model_selection import GridSearchCV\n",
    "from sklearn.metrics import accuracy_score, precision_score, recall_score, f1_score, roc_auc_score, confusion_matrix, roc_curve\n",
    "import matplotlib.pyplot as plt\n",
    "import seaborn as sns\n",
    "\n",
    "# Chargement des données\n",
    "X_train = pd.read_csv('../data/X_train.csv')\n",
    "X_test = pd.read_csv('../data/X_test.csv')\n",
    "y_train = pd.read_csv('../data/y_train.csv').values.ravel()\n",
    "y_test = pd.read_csv('../data/y_test.csv').values.ravel()\n",
    "\n",
    "print('Données chargées.')"
   ]
  },
  {
   "cell_type": "markdown",
   "metadata": {},
   "source": [
    "## 2. Entraînement et Évaluation des Modèles de base"
   ]
  },
  {
   "cell_type": "code",
   "execution_count": 2,
   "metadata": {
    "execution": {
     "iopub.execute_input": "2025-09-30T09:05:24.353172Z",
     "iopub.status.busy": "2025-09-30T09:05:24.353010Z",
     "iopub.status.idle": "2025-09-30T09:05:24.355946Z",
     "shell.execute_reply": "2025-09-30T09:05:24.355666Z"
    }
   },
   "outputs": [
    {
     "ename": "SyntaxError",
     "evalue": "unterminated string literal (detected at line 24) (183337686.py, line 24)",
     "output_type": "error",
     "traceback": [
      "  \u001b[36mCell\u001b[39m\u001b[36m \u001b[39m\u001b[32mIn[2]\u001b[39m\u001b[32m, line 24\u001b[39m\n\u001b[31m    \u001b[39m\u001b[31mprint('\u001b[39m\n          ^\n\u001b[31mSyntaxError\u001b[39m\u001b[31m:\u001b[39m unterminated string literal (detected at line 24)\n"
     ]
    }
   ],
   "source": [
    "models = {\n",
    "    'Régression Logistique': LogisticRegression(random_state=42, max_iter=1000),\n",
    "    'Arbre de Décision': DecisionTreeClassifier(random_state=42),\n",
    "    'Forêt Aléatoire': RandomForestClassifier(random_state=42)\n",
    "}\n",
    "\n",
    "results = {}\n",
    "\n",
    "for name, model in models.items():\n",
    "    print(f'Entraînement du modèle: {name}')\n",
    "    model.fit(X_train, y_train)\n",
    "    y_pred = model.predict(X_test)\n",
    "    y_proba = model.predict_proba(X_test)[:, 1]\n",
    "    \n",
    "    results[name] = {\n",
    "        'Accuracy': accuracy_score(y_test, y_pred),\n",
    "        'Precision': precision_score(y_test, y_pred),\n",
    "        'Recall': recall_score(y_test, y_pred),\n",
    "        'F1-Score': f1_score(y_test, y_pred),\n",
    "        'AUC-ROC': roc_auc_score(y_test, y_proba)\n",
    "    }\n",
    "\n",
    "results_df = pd.DataFrame(results).T\n",
    "print('\n",
    "Évaluation terminée.')"
   ]
  },
  {
   "cell_type": "markdown",
   "metadata": {},
   "source": [
    "## 3. Comparaison des performances"
   ]
  },
  {
   "cell_type": "code",
   "execution_count": 3,
   "metadata": {
    "execution": {
     "iopub.execute_input": "2025-09-30T09:05:24.357298Z",
     "iopub.status.busy": "2025-09-30T09:05:24.357123Z",
     "iopub.status.idle": "2025-09-30T09:05:24.627688Z",
     "shell.execute_reply": "2025-09-30T09:05:24.627385Z"
    }
   },
   "outputs": [
    {
     "ename": "NameError",
     "evalue": "name 'results_df' is not defined",
     "output_type": "error",
     "traceback": [
      "\u001b[31m---------------------------------------------------------------------------\u001b[39m",
      "\u001b[31mNameError\u001b[39m                                 Traceback (most recent call last)",
      "\u001b[36mCell\u001b[39m\u001b[36m \u001b[39m\u001b[32mIn[3]\u001b[39m\u001b[32m, line 1\u001b[39m\n\u001b[32m----> \u001b[39m\u001b[32m1\u001b[39m \u001b[43mresults_df\u001b[49m\n",
      "\u001b[31mNameError\u001b[39m: name 'results_df' is not defined"
     ]
    }
   ],
   "source": [
    "results_df"
   ]
  },
  {
   "cell_type": "markdown",
   "metadata": {},
   "source": [
    "## 4. Visualisation des Courbes ROC"
   ]
  },
  {
   "cell_type": "code",
   "execution_count": 4,
   "metadata": {
    "execution": {
     "iopub.execute_input": "2025-09-30T09:05:24.628890Z",
     "iopub.status.busy": "2025-09-30T09:05:24.628743Z",
     "iopub.status.idle": "2025-09-30T09:05:24.650721Z",
     "shell.execute_reply": "2025-09-30T09:05:24.650398Z"
    }
   },
   "outputs": [
    {
     "ename": "NameError",
     "evalue": "name 'models' is not defined",
     "output_type": "error",
     "traceback": [
      "\u001b[31m---------------------------------------------------------------------------\u001b[39m",
      "\u001b[31mNameError\u001b[39m                                 Traceback (most recent call last)",
      "\u001b[36mCell\u001b[39m\u001b[36m \u001b[39m\u001b[32mIn[4]\u001b[39m\u001b[32m, line 2\u001b[39m\n\u001b[32m      1\u001b[39m plt.figure(figsize=(\u001b[32m10\u001b[39m, \u001b[32m8\u001b[39m))\n\u001b[32m----> \u001b[39m\u001b[32m2\u001b[39m \u001b[38;5;28;01mfor\u001b[39;00m name, model \u001b[38;5;129;01min\u001b[39;00m \u001b[43mmodels\u001b[49m.items():\n\u001b[32m      3\u001b[39m     y_proba = model.predict_proba(X_test)[:, \u001b[32m1\u001b[39m]\n\u001b[32m      4\u001b[39m     fpr, tpr, _ = roc_curve(y_test, y_proba)\n",
      "\u001b[31mNameError\u001b[39m: name 'models' is not defined"
     ]
    },
    {
     "data": {
      "text/plain": [
       "<Figure size 1000x800 with 0 Axes>"
      ]
     },
     "metadata": {},
     "output_type": "display_data"
    }
   ],
   "source": [
    "plt.figure(figsize=(10, 8))\n",
    "for name, model in models.items():\n",
    "    y_proba = model.predict_proba(X_test)[:, 1]\n",
    "    fpr, tpr, _ = roc_curve(y_test, y_proba)\n",
    "    auc = roc_auc_score(y_test, y_proba)\n",
    "    plt.plot(fpr, tpr, label=f'{name} (AUC = {auc:.2f})')\n",
    "\n",
    "plt.plot([0, 1], [0, 1], 'k--')\n",
    "plt.xlabel('Taux de Faux Positifs')\n",
    "plt.ylabel('Taux de Vrais Positifs')\n",
    "plt.title('Courbes ROC des modèles')\n",
    "plt.legend()\n",
    "plt.show()"
   ]
  },
  {
   "cell_type": "markdown",
   "metadata": {},
   "source": [
    "## 5. Optimisation des hyperparamètres pour Random Forest"
   ]
  },
  {
   "cell_type": "code",
   "execution_count": 5,
   "metadata": {
    "execution": {
     "iopub.execute_input": "2025-09-30T09:05:24.651978Z",
     "iopub.status.busy": "2025-09-30T09:05:24.651822Z",
     "iopub.status.idle": "2025-09-30T09:05:24.857429Z",
     "shell.execute_reply": "2025-09-30T09:05:24.857063Z"
    }
   },
   "outputs": [
    {
     "ename": "ModuleNotFoundError",
     "evalue": "No module named '_posixsubprocess'",
     "output_type": "error",
     "traceback": [
      "\u001b[31m---------------------------------------------------------------------------\u001b[39m",
      "\u001b[31mModuleNotFoundError\u001b[39m                       Traceback (most recent call last)",
      "\u001b[36mCell\u001b[39m\u001b[36m \u001b[39m\u001b[32mIn[5]\u001b[39m\u001b[32m, line 12\u001b[39m\n\u001b[32m      9\u001b[39m rf = RandomForestClassifier(random_state=\u001b[32m42\u001b[39m)\n\u001b[32m     10\u001b[39m grid_search = GridSearchCV(estimator=rf, param_grid=param_grid, cv=\u001b[32m3\u001b[39m, n_jobs=-\u001b[32m1\u001b[39m, verbose=\u001b[32m2\u001b[39m, scoring=\u001b[33m'\u001b[39m\u001b[33mroc_auc\u001b[39m\u001b[33m'\u001b[39m)\n\u001b[32m---> \u001b[39m\u001b[32m12\u001b[39m \u001b[43mgrid_search\u001b[49m\u001b[43m.\u001b[49m\u001b[43mfit\u001b[49m\u001b[43m(\u001b[49m\u001b[43mX_train\u001b[49m\u001b[43m,\u001b[49m\u001b[43m \u001b[49m\u001b[43my_train\u001b[49m\u001b[43m)\u001b[49m\n\u001b[32m     14\u001b[39m \u001b[38;5;28mprint\u001b[39m(\u001b[33mf\u001b[39m\u001b[33m'\u001b[39m\u001b[33mMeilleurs hyperparamètres: \u001b[39m\u001b[38;5;132;01m{\u001b[39;00mgrid_search.best_params_\u001b[38;5;132;01m}\u001b[39;00m\u001b[33m'\u001b[39m)\n\u001b[32m     15\u001b[39m best_rf = grid_search.best_estimator_\n",
      "\u001b[36mFile \u001b[39m\u001b[32m~\\AppData\\Local\\Programs\\Python\\Python313\\Lib\\site-packages\\sklearn\\base.py:1363\u001b[39m, in \u001b[36m_fit_context.<locals>.decorator.<locals>.wrapper\u001b[39m\u001b[34m(estimator, *args, **kwargs)\u001b[39m\n\u001b[32m   1356\u001b[39m     estimator._validate_params()\n\u001b[32m   1358\u001b[39m \u001b[38;5;28;01mwith\u001b[39;00m config_context(\n\u001b[32m   1359\u001b[39m     skip_parameter_validation=(\n\u001b[32m   1360\u001b[39m         prefer_skip_nested_validation \u001b[38;5;129;01mor\u001b[39;00m global_skip_validation\n\u001b[32m   1361\u001b[39m     )\n\u001b[32m   1362\u001b[39m ):\n\u001b[32m-> \u001b[39m\u001b[32m1363\u001b[39m     \u001b[38;5;28;01mreturn\u001b[39;00m \u001b[43mfit_method\u001b[49m\u001b[43m(\u001b[49m\u001b[43mestimator\u001b[49m\u001b[43m,\u001b[49m\u001b[43m \u001b[49m\u001b[43m*\u001b[49m\u001b[43margs\u001b[49m\u001b[43m,\u001b[49m\u001b[43m \u001b[49m\u001b[43m*\u001b[49m\u001b[43m*\u001b[49m\u001b[43mkwargs\u001b[49m\u001b[43m)\u001b[49m\n",
      "\u001b[36mFile \u001b[39m\u001b[32m~\\AppData\\Local\\Programs\\Python\\Python313\\Lib\\site-packages\\sklearn\\model_selection\\_search.py:979\u001b[39m, in \u001b[36mBaseSearchCV.fit\u001b[39m\u001b[34m(self, X, y, **params)\u001b[39m\n\u001b[32m    967\u001b[39m fit_and_score_kwargs = \u001b[38;5;28mdict\u001b[39m(\n\u001b[32m    968\u001b[39m     scorer=scorers,\n\u001b[32m    969\u001b[39m     fit_params=routed_params.estimator.fit,\n\u001b[32m   (...)\u001b[39m\u001b[32m    976\u001b[39m     verbose=\u001b[38;5;28mself\u001b[39m.verbose,\n\u001b[32m    977\u001b[39m )\n\u001b[32m    978\u001b[39m results = {}\n\u001b[32m--> \u001b[39m\u001b[32m979\u001b[39m \u001b[43m\u001b[49m\u001b[38;5;28;43;01mwith\u001b[39;49;00m\u001b[43m \u001b[49m\u001b[43mparallel\u001b[49m\u001b[43m:\u001b[49m\n\u001b[32m    980\u001b[39m \u001b[43m    \u001b[49m\u001b[43mall_candidate_params\u001b[49m\u001b[43m \u001b[49m\u001b[43m=\u001b[49m\u001b[43m \u001b[49m\u001b[43m[\u001b[49m\u001b[43m]\u001b[49m\n\u001b[32m    981\u001b[39m \u001b[43m    \u001b[49m\u001b[43mall_out\u001b[49m\u001b[43m \u001b[49m\u001b[43m=\u001b[49m\u001b[43m \u001b[49m\u001b[43m[\u001b[49m\u001b[43m]\u001b[49m\n",
      "\u001b[36mFile \u001b[39m\u001b[32m~\\AppData\\Local\\Programs\\Python\\Python313\\Lib\\site-packages\\joblib\\parallel.py:1367\u001b[39m, in \u001b[36mParallel.__enter__\u001b[39m\u001b[34m(self)\u001b[39m\n\u001b[32m   1365\u001b[39m \u001b[38;5;28mself\u001b[39m._managed_backend = \u001b[38;5;28;01mTrue\u001b[39;00m\n\u001b[32m   1366\u001b[39m \u001b[38;5;28mself\u001b[39m._calling = \u001b[38;5;28;01mFalse\u001b[39;00m\n\u001b[32m-> \u001b[39m\u001b[32m1367\u001b[39m \u001b[38;5;28;43mself\u001b[39;49m\u001b[43m.\u001b[49m\u001b[43m_initialize_backend\u001b[49m\u001b[43m(\u001b[49m\u001b[43m)\u001b[49m\n\u001b[32m   1368\u001b[39m \u001b[38;5;28;01mreturn\u001b[39;00m \u001b[38;5;28mself\u001b[39m\n",
      "\u001b[36mFile \u001b[39m\u001b[32m~\\AppData\\Local\\Programs\\Python\\Python313\\Lib\\site-packages\\joblib\\parallel.py:1379\u001b[39m, in \u001b[36mParallel._initialize_backend\u001b[39m\u001b[34m(self)\u001b[39m\n\u001b[32m   1377\u001b[39m \u001b[38;5;250m\u001b[39m\u001b[33;03m\"\"\"Build a process or thread pool and return the number of workers\"\"\"\u001b[39;00m\n\u001b[32m   1378\u001b[39m \u001b[38;5;28;01mtry\u001b[39;00m:\n\u001b[32m-> \u001b[39m\u001b[32m1379\u001b[39m     n_jobs = \u001b[38;5;28;43mself\u001b[39;49m\u001b[43m.\u001b[49m\u001b[43m_backend\u001b[49m\u001b[43m.\u001b[49m\u001b[43mconfigure\u001b[49m\u001b[43m(\u001b[49m\n\u001b[32m   1380\u001b[39m \u001b[43m        \u001b[49m\u001b[43mn_jobs\u001b[49m\u001b[43m=\u001b[49m\u001b[38;5;28;43mself\u001b[39;49m\u001b[43m.\u001b[49m\u001b[43mn_jobs\u001b[49m\u001b[43m,\u001b[49m\u001b[43m \u001b[49m\u001b[43mparallel\u001b[49m\u001b[43m=\u001b[49m\u001b[38;5;28;43mself\u001b[39;49m\u001b[43m,\u001b[49m\u001b[43m \u001b[49m\u001b[43m*\u001b[49m\u001b[43m*\u001b[49m\u001b[38;5;28;43mself\u001b[39;49m\u001b[43m.\u001b[49m\u001b[43m_backend_kwargs\u001b[49m\n\u001b[32m   1381\u001b[39m \u001b[43m    \u001b[49m\u001b[43m)\u001b[49m\n\u001b[32m   1382\u001b[39m     \u001b[38;5;28;01mif\u001b[39;00m \u001b[38;5;28mself\u001b[39m.timeout \u001b[38;5;129;01mis\u001b[39;00m \u001b[38;5;129;01mnot\u001b[39;00m \u001b[38;5;28;01mNone\u001b[39;00m \u001b[38;5;129;01mand\u001b[39;00m \u001b[38;5;129;01mnot\u001b[39;00m \u001b[38;5;28mself\u001b[39m._backend.supports_timeout:\n\u001b[32m   1383\u001b[39m         warnings.warn(\n\u001b[32m   1384\u001b[39m             \u001b[33m\"\u001b[39m\u001b[33mThe backend class \u001b[39m\u001b[38;5;132;01m{!r}\u001b[39;00m\u001b[33m does not support timeout. \u001b[39m\u001b[33m\"\u001b[39m\n\u001b[32m   1385\u001b[39m             \u001b[33m\"\u001b[39m\u001b[33mYou have set \u001b[39m\u001b[33m'\u001b[39m\u001b[33mtimeout=\u001b[39m\u001b[38;5;132;01m{}\u001b[39;00m\u001b[33m'\u001b[39m\u001b[33m in Parallel but \u001b[39m\u001b[33m\"\u001b[39m\n\u001b[32m   (...)\u001b[39m\u001b[32m   1388\u001b[39m             )\n\u001b[32m   1389\u001b[39m         )\n",
      "\u001b[36mFile \u001b[39m\u001b[32m~\\AppData\\Local\\Programs\\Python\\Python313\\Lib\\site-packages\\joblib\\_parallel_backends.py:639\u001b[39m, in \u001b[36mLokyBackend.configure\u001b[39m\u001b[34m(self, n_jobs, parallel, prefer, require, idle_worker_timeout, **memmapping_executor_kwargs)\u001b[39m\n\u001b[32m    636\u001b[39m \u001b[38;5;28;01mif\u001b[39;00m idle_worker_timeout \u001b[38;5;129;01mis\u001b[39;00m \u001b[38;5;28;01mNone\u001b[39;00m:\n\u001b[32m    637\u001b[39m     idle_worker_timeout = \u001b[38;5;28mself\u001b[39m.backend_kwargs.get(\u001b[33m\"\u001b[39m\u001b[33midle_worker_timeout\u001b[39m\u001b[33m\"\u001b[39m, \u001b[32m300\u001b[39m)\n\u001b[32m--> \u001b[39m\u001b[32m639\u001b[39m \u001b[38;5;28mself\u001b[39m._workers = \u001b[43mget_memmapping_executor\u001b[49m\u001b[43m(\u001b[49m\n\u001b[32m    640\u001b[39m \u001b[43m    \u001b[49m\u001b[43mn_jobs\u001b[49m\u001b[43m,\u001b[49m\n\u001b[32m    641\u001b[39m \u001b[43m    \u001b[49m\u001b[43mtimeout\u001b[49m\u001b[43m=\u001b[49m\u001b[43midle_worker_timeout\u001b[49m\u001b[43m,\u001b[49m\n\u001b[32m    642\u001b[39m \u001b[43m    \u001b[49m\u001b[43menv\u001b[49m\u001b[43m=\u001b[49m\u001b[38;5;28;43mself\u001b[39;49m\u001b[43m.\u001b[49m\u001b[43m_prepare_worker_env\u001b[49m\u001b[43m(\u001b[49m\u001b[43mn_jobs\u001b[49m\u001b[43m=\u001b[49m\u001b[43mn_jobs\u001b[49m\u001b[43m)\u001b[49m\u001b[43m,\u001b[49m\n\u001b[32m    643\u001b[39m \u001b[43m    \u001b[49m\u001b[43mcontext_id\u001b[49m\u001b[43m=\u001b[49m\u001b[43mparallel\u001b[49m\u001b[43m.\u001b[49m\u001b[43m_id\u001b[49m\u001b[43m,\u001b[49m\n\u001b[32m    644\u001b[39m \u001b[43m    \u001b[49m\u001b[43m*\u001b[49m\u001b[43m*\u001b[49m\u001b[43mmemmapping_executor_kwargs\u001b[49m\u001b[43m,\u001b[49m\n\u001b[32m    645\u001b[39m \u001b[43m\u001b[49m\u001b[43m)\u001b[49m\n\u001b[32m    646\u001b[39m \u001b[38;5;28mself\u001b[39m.parallel = parallel\n\u001b[32m    647\u001b[39m \u001b[38;5;28;01mreturn\u001b[39;00m n_jobs\n",
      "\u001b[36mFile \u001b[39m\u001b[32m~\\AppData\\Local\\Programs\\Python\\Python313\\Lib\\site-packages\\joblib\\executor.py:18\u001b[39m, in \u001b[36mget_memmapping_executor\u001b[39m\u001b[34m(n_jobs, **kwargs)\u001b[39m\n\u001b[32m     17\u001b[39m \u001b[38;5;28;01mdef\u001b[39;00m\u001b[38;5;250m \u001b[39m\u001b[34mget_memmapping_executor\u001b[39m(n_jobs, **kwargs):\n\u001b[32m---> \u001b[39m\u001b[32m18\u001b[39m     \u001b[38;5;28;01mreturn\u001b[39;00m \u001b[43mMemmappingExecutor\u001b[49m\u001b[43m.\u001b[49m\u001b[43mget_memmapping_executor\u001b[49m\u001b[43m(\u001b[49m\u001b[43mn_jobs\u001b[49m\u001b[43m,\u001b[49m\u001b[43m \u001b[49m\u001b[43m*\u001b[49m\u001b[43m*\u001b[49m\u001b[43mkwargs\u001b[49m\u001b[43m)\u001b[49m\n",
      "\u001b[36mFile \u001b[39m\u001b[32m~\\AppData\\Local\\Programs\\Python\\Python313\\Lib\\site-packages\\joblib\\executor.py:48\u001b[39m, in \u001b[36mMemmappingExecutor.get_memmapping_executor\u001b[39m\u001b[34m(cls, n_jobs, timeout, initializer, initargs, env, temp_folder, context_id, **backend_args)\u001b[39m\n\u001b[32m     45\u001b[39m reuse = _executor_args \u001b[38;5;129;01mis\u001b[39;00m \u001b[38;5;28;01mNone\u001b[39;00m \u001b[38;5;129;01mor\u001b[39;00m _executor_args == executor_args\n\u001b[32m     46\u001b[39m _executor_args = executor_args\n\u001b[32m---> \u001b[39m\u001b[32m48\u001b[39m manager = \u001b[43mTemporaryResourcesManager\u001b[49m\u001b[43m(\u001b[49m\u001b[43mtemp_folder\u001b[49m\u001b[43m)\u001b[49m\n\u001b[32m     50\u001b[39m \u001b[38;5;66;03m# reducers access the temporary folder in which to store temporary\u001b[39;00m\n\u001b[32m     51\u001b[39m \u001b[38;5;66;03m# pickles through a call to manager.resolve_temp_folder_name. resolving\u001b[39;00m\n\u001b[32m     52\u001b[39m \u001b[38;5;66;03m# the folder name dynamically is useful to use different folders across\u001b[39;00m\n\u001b[32m     53\u001b[39m \u001b[38;5;66;03m# calls of a same reusable executor\u001b[39;00m\n\u001b[32m     54\u001b[39m job_reducers, result_reducers = get_memmapping_reducers(\n\u001b[32m     55\u001b[39m     unlink_on_gc_collect=\u001b[38;5;28;01mTrue\u001b[39;00m,\n\u001b[32m     56\u001b[39m     temp_folder_resolver=manager.resolve_temp_folder_name,\n\u001b[32m     57\u001b[39m     **backend_args,\n\u001b[32m     58\u001b[39m )\n",
      "\u001b[36mFile \u001b[39m\u001b[32m~\\AppData\\Local\\Programs\\Python\\Python313\\Lib\\site-packages\\joblib\\_memmapping_reducer.py:601\u001b[39m, in \u001b[36mTemporaryResourcesManager.__init__\u001b[39m\u001b[34m(self, temp_folder_root, context_id)\u001b[39m\n\u001b[32m    595\u001b[39m \u001b[38;5;28;01mif\u001b[39;00m context_id \u001b[38;5;129;01mis\u001b[39;00m \u001b[38;5;28;01mNone\u001b[39;00m:\n\u001b[32m    596\u001b[39m     \u001b[38;5;66;03m# It would be safer to not assign a default context id (less silent\u001b[39;00m\n\u001b[32m    597\u001b[39m     \u001b[38;5;66;03m# bugs), but doing this while maintaining backward compatibility\u001b[39;00m\n\u001b[32m    598\u001b[39m     \u001b[38;5;66;03m# with the previous, context-unaware version get_memmaping_executor\u001b[39;00m\n\u001b[32m    599\u001b[39m     \u001b[38;5;66;03m# exposes too many low-level details.\u001b[39;00m\n\u001b[32m    600\u001b[39m     context_id = uuid4().hex\n\u001b[32m--> \u001b[39m\u001b[32m601\u001b[39m \u001b[38;5;28;43mself\u001b[39;49m\u001b[43m.\u001b[49m\u001b[43mset_current_context\u001b[49m\u001b[43m(\u001b[49m\u001b[43mcontext_id\u001b[49m\u001b[43m)\u001b[49m\n",
      "\u001b[36mFile \u001b[39m\u001b[32m~\\AppData\\Local\\Programs\\Python\\Python313\\Lib\\site-packages\\joblib\\_memmapping_reducer.py:605\u001b[39m, in \u001b[36mTemporaryResourcesManager.set_current_context\u001b[39m\u001b[34m(self, context_id)\u001b[39m\n\u001b[32m    603\u001b[39m \u001b[38;5;28;01mdef\u001b[39;00m\u001b[38;5;250m \u001b[39m\u001b[34mset_current_context\u001b[39m(\u001b[38;5;28mself\u001b[39m, context_id):\n\u001b[32m    604\u001b[39m     \u001b[38;5;28mself\u001b[39m._current_context_id = context_id\n\u001b[32m--> \u001b[39m\u001b[32m605\u001b[39m     \u001b[38;5;28;43mself\u001b[39;49m\u001b[43m.\u001b[49m\u001b[43mregister_new_context\u001b[49m\u001b[43m(\u001b[49m\u001b[43mcontext_id\u001b[49m\u001b[43m)\u001b[49m\n",
      "\u001b[36mFile \u001b[39m\u001b[32m~\\AppData\\Local\\Programs\\Python\\Python313\\Lib\\site-packages\\joblib\\_memmapping_reducer.py:627\u001b[39m, in \u001b[36mTemporaryResourcesManager.register_new_context\u001b[39m\u001b[34m(self, context_id)\u001b[39m\n\u001b[32m    623\u001b[39m new_folder_name = \u001b[33m\"\u001b[39m\u001b[33mjoblib_memmapping_folder_\u001b[39m\u001b[38;5;132;01m{}\u001b[39;00m\u001b[33m_\u001b[39m\u001b[38;5;132;01m{}\u001b[39;00m\u001b[33m_\u001b[39m\u001b[38;5;132;01m{}\u001b[39;00m\u001b[33m\"\u001b[39m.format(\n\u001b[32m    624\u001b[39m     os.getpid(), \u001b[38;5;28mself\u001b[39m._id, context_id\n\u001b[32m    625\u001b[39m )\n\u001b[32m    626\u001b[39m new_folder_path, _ = _get_temp_dir(new_folder_name, \u001b[38;5;28mself\u001b[39m._temp_folder_root)\n\u001b[32m--> \u001b[39m\u001b[32m627\u001b[39m \u001b[38;5;28;43mself\u001b[39;49m\u001b[43m.\u001b[49m\u001b[43mregister_folder_finalizer\u001b[49m\u001b[43m(\u001b[49m\u001b[43mnew_folder_path\u001b[49m\u001b[43m,\u001b[49m\u001b[43m \u001b[49m\u001b[43mcontext_id\u001b[49m\u001b[43m)\u001b[49m\n\u001b[32m    628\u001b[39m \u001b[38;5;28mself\u001b[39m._cached_temp_folders[context_id] = new_folder_path\n",
      "\u001b[36mFile \u001b[39m\u001b[32m~\\AppData\\Local\\Programs\\Python\\Python313\\Lib\\site-packages\\joblib\\_memmapping_reducer.py:643\u001b[39m, in \u001b[36mTemporaryResourcesManager.register_folder_finalizer\u001b[39m\u001b[34m(self, pool_subfolder, context_id)\u001b[39m\n\u001b[32m    636\u001b[39m \u001b[38;5;28;01mdef\u001b[39;00m\u001b[38;5;250m \u001b[39m\u001b[34mregister_folder_finalizer\u001b[39m(\u001b[38;5;28mself\u001b[39m, pool_subfolder, context_id):\n\u001b[32m    637\u001b[39m     \u001b[38;5;66;03m# Register the garbage collector at program exit in case caller forgets\u001b[39;00m\n\u001b[32m    638\u001b[39m     \u001b[38;5;66;03m# to call terminate explicitly: note we do not pass any reference to\u001b[39;00m\n\u001b[32m    639\u001b[39m     \u001b[38;5;66;03m# ensure that this callback won't prevent garbage collection of\u001b[39;00m\n\u001b[32m    640\u001b[39m     \u001b[38;5;66;03m# parallel instance and related file handler resources such as POSIX\u001b[39;00m\n\u001b[32m    641\u001b[39m     \u001b[38;5;66;03m# semaphores and pipes\u001b[39;00m\n\u001b[32m    642\u001b[39m     pool_module_name = whichmodule(delete_folder, \u001b[33m\"\u001b[39m\u001b[33mdelete_folder\u001b[39m\u001b[33m\"\u001b[39m)\n\u001b[32m--> \u001b[39m\u001b[32m643\u001b[39m     \u001b[43mresource_tracker\u001b[49m\u001b[43m.\u001b[49m\u001b[43mregister\u001b[49m\u001b[43m(\u001b[49m\u001b[43mpool_subfolder\u001b[49m\u001b[43m,\u001b[49m\u001b[43m \u001b[49m\u001b[33;43m\"\u001b[39;49m\u001b[33;43mfolder\u001b[39;49m\u001b[33;43m\"\u001b[39;49m\u001b[43m)\u001b[49m\n\u001b[32m    645\u001b[39m     \u001b[38;5;28;01mdef\u001b[39;00m\u001b[38;5;250m \u001b[39m\u001b[34m_cleanup\u001b[39m():\n\u001b[32m    646\u001b[39m         \u001b[38;5;66;03m# In some cases the Python runtime seems to set delete_folder to\u001b[39;00m\n\u001b[32m    647\u001b[39m         \u001b[38;5;66;03m# None just before exiting when accessing the delete_folder\u001b[39;00m\n\u001b[32m   (...)\u001b[39m\u001b[32m    652\u001b[39m         \u001b[38;5;66;03m# because joblib should only use relative imports to allow\u001b[39;00m\n\u001b[32m    653\u001b[39m         \u001b[38;5;66;03m# easy vendoring.\u001b[39;00m\n\u001b[32m    654\u001b[39m         delete_folder = \u001b[38;5;28m__import__\u001b[39m(\n\u001b[32m    655\u001b[39m             pool_module_name, fromlist=[\u001b[33m\"\u001b[39m\u001b[33mdelete_folder\u001b[39m\u001b[33m\"\u001b[39m]\n\u001b[32m    656\u001b[39m         ).delete_folder\n",
      "\u001b[36mFile \u001b[39m\u001b[32m~\\AppData\\Local\\Programs\\Python\\Python313\\Lib\\multiprocessing\\resource_tracker.py:244\u001b[39m, in \u001b[36mResourceTracker.register\u001b[39m\u001b[34m(self, name, rtype)\u001b[39m\n\u001b[32m    242\u001b[39m \u001b[38;5;28;01mdef\u001b[39;00m\u001b[38;5;250m \u001b[39m\u001b[34mregister\u001b[39m(\u001b[38;5;28mself\u001b[39m, name, rtype):\n\u001b[32m    243\u001b[39m \u001b[38;5;250m    \u001b[39m\u001b[33;03m'''Register name of resource with resource tracker.'''\u001b[39;00m\n\u001b[32m--> \u001b[39m\u001b[32m244\u001b[39m     \u001b[38;5;28;43mself\u001b[39;49m\u001b[43m.\u001b[49m\u001b[43m_send\u001b[49m\u001b[43m(\u001b[49m\u001b[33;43m'\u001b[39;49m\u001b[33;43mREGISTER\u001b[39;49m\u001b[33;43m'\u001b[39;49m\u001b[43m,\u001b[49m\u001b[43m \u001b[49m\u001b[43mname\u001b[49m\u001b[43m,\u001b[49m\u001b[43m \u001b[49m\u001b[43mrtype\u001b[49m\u001b[43m)\u001b[49m\n",
      "\u001b[36mFile \u001b[39m\u001b[32m~\\AppData\\Local\\Programs\\Python\\Python313\\Lib\\multiprocessing\\resource_tracker.py:261\u001b[39m, in \u001b[36mResourceTracker._send\u001b[39m\u001b[34m(self, cmd, name, rtype)\u001b[39m\n\u001b[32m    256\u001b[39m \u001b[38;5;28;01mif\u001b[39;00m \u001b[38;5;28mlen\u001b[39m(msg) > \u001b[32m512\u001b[39m:\n\u001b[32m    257\u001b[39m     \u001b[38;5;66;03m# posix guarantees that writes to a pipe of less than PIPE_BUF\u001b[39;00m\n\u001b[32m    258\u001b[39m     \u001b[38;5;66;03m# bytes are atomic, and that PIPE_BUF >= 512\u001b[39;00m\n\u001b[32m    259\u001b[39m     \u001b[38;5;28;01mraise\u001b[39;00m \u001b[38;5;167;01mValueError\u001b[39;00m(\u001b[33m'\u001b[39m\u001b[33mmsg too long\u001b[39m\u001b[33m'\u001b[39m)\n\u001b[32m--> \u001b[39m\u001b[32m261\u001b[39m \u001b[38;5;28;43mself\u001b[39;49m\u001b[43m.\u001b[49m\u001b[43m_ensure_running_and_write\u001b[49m\u001b[43m(\u001b[49m\u001b[43mmsg\u001b[49m\u001b[43m)\u001b[49m\n",
      "\u001b[36mFile \u001b[39m\u001b[32m~\\AppData\\Local\\Programs\\Python\\Python313\\Lib\\multiprocessing\\resource_tracker.py:220\u001b[39m, in \u001b[36mResourceTracker._ensure_running_and_write\u001b[39m\u001b[34m(self, msg)\u001b[39m\n\u001b[32m    218\u001b[39m         msg = \u001b[38;5;28;01mNone\u001b[39;00m  \u001b[38;5;66;03m# message was sent in probe\u001b[39;00m\n\u001b[32m    219\u001b[39m     \u001b[38;5;28;01melse\u001b[39;00m:\n\u001b[32m--> \u001b[39m\u001b[32m220\u001b[39m         \u001b[38;5;28;43mself\u001b[39;49m\u001b[43m.\u001b[49m\u001b[43m_launch\u001b[49m\u001b[43m(\u001b[49m\u001b[43m)\u001b[49m\n\u001b[32m    222\u001b[39m \u001b[38;5;28;01mwhile\u001b[39;00m \u001b[38;5;28;01mTrue\u001b[39;00m:\n\u001b[32m    223\u001b[39m     \u001b[38;5;28;01mtry\u001b[39;00m:\n",
      "\u001b[36mFile \u001b[39m\u001b[32m~\\AppData\\Local\\Programs\\Python\\Python313\\Lib\\multiprocessing\\resource_tracker.py:185\u001b[39m, in \u001b[36mResourceTracker._launch\u001b[39m\u001b[34m(self)\u001b[39m\n\u001b[32m    183\u001b[39m     \u001b[38;5;28;01mif\u001b[39;00m _HAVE_SIGMASK:\n\u001b[32m    184\u001b[39m         prev_sigmask = signal.pthread_sigmask(signal.SIG_BLOCK, _IGNORED_SIGNALS)\n\u001b[32m--> \u001b[39m\u001b[32m185\u001b[39m     pid = \u001b[43mutil\u001b[49m\u001b[43m.\u001b[49m\u001b[43mspawnv_passfds\u001b[49m\u001b[43m(\u001b[49m\u001b[43mexe\u001b[49m\u001b[43m,\u001b[49m\u001b[43m \u001b[49m\u001b[43margs\u001b[49m\u001b[43m,\u001b[49m\u001b[43m \u001b[49m\u001b[43mfds_to_pass\u001b[49m\u001b[43m)\u001b[49m\n\u001b[32m    186\u001b[39m \u001b[38;5;28;01mfinally\u001b[39;00m:\n\u001b[32m    187\u001b[39m     \u001b[38;5;28;01mif\u001b[39;00m prev_sigmask \u001b[38;5;129;01mis\u001b[39;00m \u001b[38;5;129;01mnot\u001b[39;00m \u001b[38;5;28;01mNone\u001b[39;00m:\n",
      "\u001b[36mFile \u001b[39m\u001b[32m~\\AppData\\Local\\Programs\\Python\\Python313\\Lib\\multiprocessing\\util.py:515\u001b[39m, in \u001b[36mspawnv_passfds\u001b[39m\u001b[34m(path, args, passfds)\u001b[39m\n\u001b[32m    514\u001b[39m \u001b[38;5;28;01mdef\u001b[39;00m\u001b[38;5;250m \u001b[39m\u001b[34mspawnv_passfds\u001b[39m(path, args, passfds):\n\u001b[32m--> \u001b[39m\u001b[32m515\u001b[39m     \u001b[38;5;28;01mimport\u001b[39;00m\u001b[38;5;250m \u001b[39m\u001b[34;01m_posixsubprocess\u001b[39;00m\n\u001b[32m    516\u001b[39m     \u001b[38;5;28;01mimport\u001b[39;00m\u001b[38;5;250m \u001b[39m\u001b[34;01msubprocess\u001b[39;00m\n\u001b[32m    517\u001b[39m     passfds = \u001b[38;5;28mtuple\u001b[39m(\u001b[38;5;28msorted\u001b[39m(\u001b[38;5;28mmap\u001b[39m(\u001b[38;5;28mint\u001b[39m, passfds)))\n",
      "\u001b[31mModuleNotFoundError\u001b[39m: No module named '_posixsubprocess'"
     ]
    }
   ],
   "source": [
    "param_grid = {\n",
    "    'n_estimators': [100, 200],\n",
    "    'max_depth': [10, 20, None],\n",
    "    'min_samples_split': [2, 5],\n",
    "    'min_samples_leaf': [1, 2],\n",
    "    'bootstrap': [True, False]\n",
    "}\n",
    "\n",
    "rf = RandomForestClassifier(random_state=42)\n",
    "grid_search = GridSearchCV(estimator=rf, param_grid=param_grid, cv=3, n_jobs=-1, verbose=2, scoring='roc_auc')\n",
    "\n",
    "grid_search.fit(X_train, y_train)\n",
    "\n",
    "print(f'Meilleurs hyperparamètres: {grid_search.best_params_}')\n",
    "best_rf = grid_search.best_estimator_"
   ]
  },
  {
   "cell_type": "markdown",
   "metadata": {},
   "source": [
    "## 6. Évaluation du modèle optimisé"
   ]
  },
  {
   "cell_type": "code",
   "execution_count": 6,
   "metadata": {
    "execution": {
     "iopub.execute_input": "2025-09-30T09:05:24.859083Z",
     "iopub.status.busy": "2025-09-30T09:05:24.858882Z",
     "iopub.status.idle": "2025-09-30T09:05:24.874080Z",
     "shell.execute_reply": "2025-09-30T09:05:24.873721Z"
    }
   },
   "outputs": [
    {
     "ename": "NameError",
     "evalue": "name 'best_rf' is not defined",
     "output_type": "error",
     "traceback": [
      "\u001b[31m---------------------------------------------------------------------------\u001b[39m",
      "\u001b[31mNameError\u001b[39m                                 Traceback (most recent call last)",
      "\u001b[36mCell\u001b[39m\u001b[36m \u001b[39m\u001b[32mIn[6]\u001b[39m\u001b[32m, line 1\u001b[39m\n\u001b[32m----> \u001b[39m\u001b[32m1\u001b[39m y_pred_best = \u001b[43mbest_rf\u001b[49m.predict(X_test)\n\u001b[32m      2\u001b[39m y_proba_best = best_rf.predict_proba(X_test)[:, \u001b[32m1\u001b[39m]\n\u001b[32m      4\u001b[39m optimized_results = {\n\u001b[32m      5\u001b[39m     \u001b[33m'\u001b[39m\u001b[33mAccuracy\u001b[39m\u001b[33m'\u001b[39m: accuracy_score(y_test, y_pred_best),\n\u001b[32m      6\u001b[39m     \u001b[33m'\u001b[39m\u001b[33mPrecision\u001b[39m\u001b[33m'\u001b[39m: precision_score(y_test, y_pred_best),\n\u001b[32m   (...)\u001b[39m\u001b[32m      9\u001b[39m     \u001b[33m'\u001b[39m\u001b[33mAUC-ROC\u001b[39m\u001b[33m'\u001b[39m: roc_auc_score(y_test, y_proba_best)\n\u001b[32m     10\u001b[39m }\n",
      "\u001b[31mNameError\u001b[39m: name 'best_rf' is not defined"
     ]
    }
   ],
   "source": [
    "y_pred_best = best_rf.predict(X_test)\n",
    "y_proba_best = best_rf.predict_proba(X_test)[:, 1]\n",
    "\n",
    "optimized_results = {\n",
    "    'Accuracy': accuracy_score(y_test, y_pred_best),\n",
    "    'Precision': precision_score(y_test, y_pred_best),\n",
    "    'Recall': recall_score(y_test, y_pred_best),\n",
    "    'F1-Score': f1_score(y_test, y_pred_best),\n",
    "    'AUC-ROC': roc_auc_score(y_test, y_proba_best)\n",
    "}\n",
    "\n",
    "print('Performance du modèle Random Forest optimisé:')\n",
    "for metric, value in optimized_results.items():\n",
    "    print(f'{metric}: {value:.4f}')\n",
    "\n",
    "# Matrice de confusion\n",
    "cm = confusion_matrix(y_test, y_pred_best)\n",
    "plt.figure(figsize=(8, 6))\n",
    "sns.heatmap(cm, annot=True, fmt='d', cmap='Blues', xticklabels=['Non-Churn', 'Churn'], yticklabels=['Non-Churn', 'Churn'])\n",
    "plt.title('Matrice de confusion du modèle optimisé')\n",
    "plt.ylabel('Vraie étiquette')\n",
    "plt.xlabel('Étiquette prédite')\n",
    "plt.show()"
   ]
  },
  {
   "cell_type": "markdown",
   "metadata": {},
   "source": [
    "## 7. Importance des caractéristiques"
   ]
  },
  {
   "cell_type": "code",
   "execution_count": 7,
   "metadata": {
    "execution": {
     "iopub.execute_input": "2025-09-30T09:05:24.875405Z",
     "iopub.status.busy": "2025-09-30T09:05:24.875205Z",
     "iopub.status.idle": "2025-09-30T09:05:24.888057Z",
     "shell.execute_reply": "2025-09-30T09:05:24.887745Z"
    }
   },
   "outputs": [
    {
     "ename": "NameError",
     "evalue": "name 'best_rf' is not defined",
     "output_type": "error",
     "traceback": [
      "\u001b[31m---------------------------------------------------------------------------\u001b[39m",
      "\u001b[31mNameError\u001b[39m                                 Traceback (most recent call last)",
      "\u001b[36mCell\u001b[39m\u001b[36m \u001b[39m\u001b[32mIn[7]\u001b[39m\u001b[32m, line 1\u001b[39m\n\u001b[32m----> \u001b[39m\u001b[32m1\u001b[39m feature_importances = pd.DataFrame(\u001b[43mbest_rf\u001b[49m.feature_importances_, index=X_train.columns, columns=[\u001b[33m'\u001b[39m\u001b[33mImportance\u001b[39m\u001b[33m'\u001b[39m]).sort_values(\u001b[33m'\u001b[39m\u001b[33mImportance\u001b[39m\u001b[33m'\u001b[39m, ascending=\u001b[38;5;28;01mFalse\u001b[39;00m)\n\u001b[32m      3\u001b[39m plt.figure(figsize=(\u001b[32m12\u001b[39m, \u001b[32m10\u001b[39m))\n\u001b[32m      4\u001b[39m sns.barplot(x=feature_importances.Importance, y=feature_importances.index)\n",
      "\u001b[31mNameError\u001b[39m: name 'best_rf' is not defined"
     ]
    }
   ],
   "source": [
    "feature_importances = pd.DataFrame(best_rf.feature_importances_, index=X_train.columns, columns=['Importance']).sort_values('Importance', ascending=False)\n",
    "\n",
    "plt.figure(figsize=(12, 10))\n",
    "sns.barplot(x=feature_importances.Importance, y=feature_importances.index)\n",
    "plt.title('Importance des caractéristiques - Random Forest optimisé')\n",
    "plt.show()"
   ]
  },
  {
   "cell_type": "markdown",
   "metadata": {},
   "source": [
    "## 8. Conclusion\n",
    "Le modèle de Forêt Aléatoire (Random Forest), après optimisation des hyperparamètres, offre les meilleures performances pour prédire le churn client, avec un score AUC-ROC élevé. L'analyse de l'importance des caractéristiques révèle que la durée du contrat (`Contract`), la durée d'abonnement (`tenure`) et les frais mensuels (`MonthlyCharges`) sont les principaux facteurs prédictifs du churn. Ces informations sont cruciales pour orienter les stratégies de rétention client."
   ]
  }
 ],
 "metadata": {
  "kernelspec": {
   "display_name": "Python 3",
   "language": "python",
   "name": "python3"
  },
  "language_info": {
   "codemirror_mode": {
    "name": "ipython",
    "version": 3
   },
   "file_extension": ".py",
   "mimetype": "text/x-python",
   "name": "python",
   "nbconvert_exporter": "python",
   "pygments_lexer": "ipython3",
   "version": "3.13.7"
  }
 },
 "nbformat": 4,
 "nbformat_minor": 4
}
